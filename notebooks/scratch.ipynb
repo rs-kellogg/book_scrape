{
 "cells": [
  {
   "cell_type": "code",
   "execution_count": 1,
   "id": "7c18a8b7",
   "metadata": {},
   "outputs": [],
   "source": [
    "import pandas as pd\n",
    "from pathlib import Path"
   ]
  },
  {
   "cell_type": "code",
   "execution_count": 4,
   "id": "ea0f64f9",
   "metadata": {},
   "outputs": [
    {
     "data": {
      "application/vnd.microsoft.datawrangler.viewer.v0+json": {
       "columns": [
        {
         "name": "index",
         "rawType": "int64",
         "type": "integer"
        },
        {
         "name": "Title",
         "rawType": "object",
         "type": "string"
        },
        {
         "name": "UPC",
         "rawType": "object",
         "type": "string"
        },
        {
         "name": "Price",
         "rawType": "object",
         "type": "string"
        }
       ],
       "conversionMethod": "pd.DataFrame",
       "ref": "f8236738-f5d6-425e-a142-80920c6c0243",
       "rows": [
        [
         "0",
         "Shakespeare's Sonnets",
         "30a7f60cd76ca58c",
         "Â£20.66"
        ],
        [
         "1",
         "Shoe Dog: A Memoir by the Creator of NIKE",
         "0e0dcc3339602b28",
         "Â£23.99"
        ],
        [
         "2",
         "Sapiens: A Brief History of Humankind",
         "4165285e1663650f",
         "Â£54.23"
        ],
        [
         "3",
         "A Light in the Attic",
         "a897fe39b1053632",
         "Â£51.77"
        ],
        [
         "4",
         "Sophie's World",
         "6be3beb0793a53e7",
         "Â£15.94"
        ]
       ],
       "shape": {
        "columns": 3,
        "rows": 5
       }
      },
      "text/html": [
       "<div>\n",
       "<style scoped>\n",
       "    .dataframe tbody tr th:only-of-type {\n",
       "        vertical-align: middle;\n",
       "    }\n",
       "\n",
       "    .dataframe tbody tr th {\n",
       "        vertical-align: top;\n",
       "    }\n",
       "\n",
       "    .dataframe thead th {\n",
       "        text-align: right;\n",
       "    }\n",
       "</style>\n",
       "<table border=\"1\" class=\"dataframe\">\n",
       "  <thead>\n",
       "    <tr style=\"text-align: right;\">\n",
       "      <th></th>\n",
       "      <th>Title</th>\n",
       "      <th>UPC</th>\n",
       "      <th>Price</th>\n",
       "    </tr>\n",
       "  </thead>\n",
       "  <tbody>\n",
       "    <tr>\n",
       "      <th>0</th>\n",
       "      <td>Shakespeare's Sonnets</td>\n",
       "      <td>30a7f60cd76ca58c</td>\n",
       "      <td>Â£20.66</td>\n",
       "    </tr>\n",
       "    <tr>\n",
       "      <th>1</th>\n",
       "      <td>Shoe Dog: A Memoir by the Creator of NIKE</td>\n",
       "      <td>0e0dcc3339602b28</td>\n",
       "      <td>Â£23.99</td>\n",
       "    </tr>\n",
       "    <tr>\n",
       "      <th>2</th>\n",
       "      <td>Sapiens: A Brief History of Humankind</td>\n",
       "      <td>4165285e1663650f</td>\n",
       "      <td>Â£54.23</td>\n",
       "    </tr>\n",
       "    <tr>\n",
       "      <th>3</th>\n",
       "      <td>A Light in the Attic</td>\n",
       "      <td>a897fe39b1053632</td>\n",
       "      <td>Â£51.77</td>\n",
       "    </tr>\n",
       "    <tr>\n",
       "      <th>4</th>\n",
       "      <td>Sophie's World</td>\n",
       "      <td>6be3beb0793a53e7</td>\n",
       "      <td>Â£15.94</td>\n",
       "    </tr>\n",
       "  </tbody>\n",
       "</table>\n",
       "</div>"
      ],
      "text/plain": [
       "                                       Title               UPC    Price\n",
       "0                      Shakespeare's Sonnets  30a7f60cd76ca58c  Â£20.66\n",
       "1  Shoe Dog: A Memoir by the Creator of NIKE  0e0dcc3339602b28  Â£23.99\n",
       "2      Sapiens: A Brief History of Humankind  4165285e1663650f  Â£54.23\n",
       "3                       A Light in the Attic  a897fe39b1053632  Â£51.77\n",
       "4                             Sophie's World  6be3beb0793a53e7  Â£15.94"
      ]
     },
     "execution_count": 4,
     "metadata": {},
     "output_type": "execute_result"
    }
   ],
   "source": [
    "csv_file = Path(\"../data/extracted_book_details.csv\")\n",
    "df = pd.read_csv(csv_file)\n",
    "df.head()"
   ]
  },
  {
   "cell_type": "code",
   "execution_count": null,
   "id": "a22b7790",
   "metadata": {},
   "outputs": [],
   "source": []
  }
 ],
 "metadata": {
  "kernelspec": {
   "display_name": "Python 3",
   "language": "python",
   "name": "python3"
  },
  "language_info": {
   "codemirror_mode": {
    "name": "ipython",
    "version": 3
   },
   "file_extension": ".py",
   "mimetype": "text/x-python",
   "name": "python",
   "nbconvert_exporter": "python",
   "pygments_lexer": "ipython3",
   "version": "3.13.3"
  }
 },
 "nbformat": 4,
 "nbformat_minor": 5
}
